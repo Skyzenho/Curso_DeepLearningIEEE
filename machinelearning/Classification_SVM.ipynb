{
  "nbformat": 4,
  "nbformat_minor": 0,
  "metadata": {
    "colab": {
      "name": "Classification-SVM.ipynb",
      "provenance": [],
      "toc_visible": true
    },
    "kernelspec": {
      "name": "python3",
      "display_name": "Python 3"
    }
  },
  "cells": [
    {
      "cell_type": "markdown",
      "metadata": {
        "id": "VaJbVbEcHOcN",
        "colab_type": "text"
      },
      "source": [
        "# **Começaremos com um exemplo clássico de classificação utilizando o Dataset Iris de Fisher (1936) e Máquina de Vetor de Suporte (SVM):** "
      ]
    },
    {
      "cell_type": "markdown",
      "metadata": {
        "id": "sLKANbijzHKl",
        "colab_type": "text"
      },
      "source": [
        "Neste caderno aplicaremos a técnica de classificação através de um classificador SVM.\n",
        "\n",
        "Materiais de Referência: https://minerandodados.com.br/spotify-svm-python/\n",
        "\n",
        "https://scikit-learn.org/stable/modules/generated/sklearn.svm.SVC.html"
      ]
    },
    {
      "cell_type": "markdown",
      "metadata": {
        "id": "xeDRj7S8Jh2n",
        "colab_type": "text"
      },
      "source": [
        "### Aplicação conjunto Iris"
      ]
    },
    {
      "cell_type": "markdown",
      "metadata": {
        "id": "gh4SrtmoIu3d",
        "colab_type": "text"
      },
      "source": [
        "Imagine que você é um botânico que procura uma maneira automatizada de categorizar cada flor de íris que encontrar. O aprendizado de máquina fornece muitos algoritmos para classificar flores estatisticamente. Por exemplo, um sofisticado programa de aprendizado de máquina pode classificar flores com base em fotografias. Nossas ambições são mais modestas - vamos classificar as flores de íris com base nas medidas de *comprimento e largura de suas sépalas e pétalas*.\n",
        "\n",
        "\n",
        "\n",
        "> O conjunto de dados consiste de 150 amostras contendo 4 medidas de distancia entre as sépalas e pétalas conforme figura 2. As amostras correspondem a uma das 3 espécies (*Iris setosa*, *Iris virginica* e *Iris versicolor*) referente a figura 1\n",
        "\n",
        "<table>\n",
        "  <tr><td>\n",
        "    <img src=\"https://www.tensorflow.org/images/iris_three_species.jpg\"\n",
        "         alt=\"Petal geometry compared for three iris species: Iris setosa, Iris virginica, and Iris versicolor\">\n",
        "  </td></tr>\n",
        "  <tr><td align=\"center\">\n",
        "    <b>Figure 1.</b> <a href=\"https://commons.wikimedia.org/w/index.php?curid=170298\">Iris setosa</a> (by <a href=\"https://commons.wikimedia.org/wiki/User:Radomil\">Radomil</a>, CC BY-SA 3.0), <a href=\"https://commons.wikimedia.org/w/index.php?curid=248095\">Iris versicolor</a>, (by <a href=\"https://commons.wikimedia.org/wiki/User:Dlanglois\">Dlanglois</a>, CC BY-SA 3.0), and <a href=\"https://www.flickr.com/photos/33397993@N05/3352169862\">Iris virginica</a> (by <a href=\"https://www.flickr.com/photos/33397993@N05\">Frank Mayfield</a>, CC BY-SA 2.0).<br/>&nbsp;\n",
        "  </td></tr>\n",
        "</table>\n",
        "\n",
        "<table>\n",
        "  <tr><td>\n",
        "    <img src=\"https://miro.medium.com/max/1400/0*7H_gF1KnslexnJ3s\"\n",
        "         alt=\"Petal geometry compared for three iris species: Iris setosa, Iris virginica, and Iris versicolor\">\n",
        "  </td></tr>\n",
        "  <tr><td align=\"center\">\n",
        "    <b>Figure 2. Estrutura do conjuto de dados</b> <a href=\"https://medium.com/@jebaseelanravi96/machine-learning-iris-classification-33aa18a4a983\">Image-Credit</a>\n",
        "  </td></tr>\n",
        "</table>\n",
        "\n",
        "\n"
      ]
    },
    {
      "cell_type": "markdown",
      "metadata": {
        "id": "M0Iqgye4NsXA",
        "colab_type": "text"
      },
      "source": [
        "## Leitura do conjunto de dados\n",
        "\n",
        "Para a importação do **dataset** utilizamos a biblioteca *Pandas* e do **método de treinamento** a *Scikit-Learn*."
      ]
    },
    {
      "cell_type": "code",
      "metadata": {
        "id": "8n4HfaPyIocU",
        "colab_type": "code",
        "colab": {
          "base_uri": "https://localhost:8080/",
          "height": 419
        },
        "outputId": "b90e8193-bdd7-4e5b-a822-32add7da050f"
      },
      "source": [
        "from sklearn.model_selection import cross_val_predict\n",
        "from sklearn import metrics\n",
        "import matplotlib.pyplot as plt\n",
        "import pandas as pd\n",
        "import numpy as np\n",
        "\n",
        "from sklearn import svm\n",
        "from sklearn import datasets\n",
        "\n",
        "iris = datasets.load_iris()\n",
        "x = iris.data\n",
        "y = iris.target\n",
        "\n",
        "df = pd.read_csv('iris.csv',index_col=False) # Leitura do arquivo formato csv\n",
        "df"
      ],
      "execution_count": null,
      "outputs": [
        {
          "output_type": "execute_result",
          "data": {
            "text/html": [
              "<div>\n",
              "<style scoped>\n",
              "    .dataframe tbody tr th:only-of-type {\n",
              "        vertical-align: middle;\n",
              "    }\n",
              "\n",
              "    .dataframe tbody tr th {\n",
              "        vertical-align: top;\n",
              "    }\n",
              "\n",
              "    .dataframe thead th {\n",
              "        text-align: right;\n",
              "    }\n",
              "</style>\n",
              "<table border=\"1\" class=\"dataframe\">\n",
              "  <thead>\n",
              "    <tr style=\"text-align: right;\">\n",
              "      <th></th>\n",
              "      <th>Id</th>\n",
              "      <th>SepalLengthCm</th>\n",
              "      <th>SepalWidthCm</th>\n",
              "      <th>PetalLengthCm</th>\n",
              "      <th>PetalWidthCm</th>\n",
              "      <th>Species</th>\n",
              "    </tr>\n",
              "  </thead>\n",
              "  <tbody>\n",
              "    <tr>\n",
              "      <th>0</th>\n",
              "      <td>1</td>\n",
              "      <td>5.1</td>\n",
              "      <td>3.5</td>\n",
              "      <td>1.4</td>\n",
              "      <td>0.2</td>\n",
              "      <td>Iris-setosa</td>\n",
              "    </tr>\n",
              "    <tr>\n",
              "      <th>1</th>\n",
              "      <td>2</td>\n",
              "      <td>4.9</td>\n",
              "      <td>3.0</td>\n",
              "      <td>1.4</td>\n",
              "      <td>0.2</td>\n",
              "      <td>Iris-setosa</td>\n",
              "    </tr>\n",
              "    <tr>\n",
              "      <th>2</th>\n",
              "      <td>3</td>\n",
              "      <td>4.7</td>\n",
              "      <td>3.2</td>\n",
              "      <td>1.3</td>\n",
              "      <td>0.2</td>\n",
              "      <td>Iris-setosa</td>\n",
              "    </tr>\n",
              "    <tr>\n",
              "      <th>3</th>\n",
              "      <td>4</td>\n",
              "      <td>4.6</td>\n",
              "      <td>3.1</td>\n",
              "      <td>1.5</td>\n",
              "      <td>0.2</td>\n",
              "      <td>Iris-setosa</td>\n",
              "    </tr>\n",
              "    <tr>\n",
              "      <th>4</th>\n",
              "      <td>5</td>\n",
              "      <td>5.0</td>\n",
              "      <td>3.6</td>\n",
              "      <td>1.4</td>\n",
              "      <td>0.2</td>\n",
              "      <td>Iris-setosa</td>\n",
              "    </tr>\n",
              "    <tr>\n",
              "      <th>...</th>\n",
              "      <td>...</td>\n",
              "      <td>...</td>\n",
              "      <td>...</td>\n",
              "      <td>...</td>\n",
              "      <td>...</td>\n",
              "      <td>...</td>\n",
              "    </tr>\n",
              "    <tr>\n",
              "      <th>145</th>\n",
              "      <td>146</td>\n",
              "      <td>6.7</td>\n",
              "      <td>3.0</td>\n",
              "      <td>5.2</td>\n",
              "      <td>2.3</td>\n",
              "      <td>Iris-virginica</td>\n",
              "    </tr>\n",
              "    <tr>\n",
              "      <th>146</th>\n",
              "      <td>147</td>\n",
              "      <td>6.3</td>\n",
              "      <td>2.5</td>\n",
              "      <td>5.0</td>\n",
              "      <td>1.9</td>\n",
              "      <td>Iris-virginica</td>\n",
              "    </tr>\n",
              "    <tr>\n",
              "      <th>147</th>\n",
              "      <td>148</td>\n",
              "      <td>6.5</td>\n",
              "      <td>3.0</td>\n",
              "      <td>5.2</td>\n",
              "      <td>2.0</td>\n",
              "      <td>Iris-virginica</td>\n",
              "    </tr>\n",
              "    <tr>\n",
              "      <th>148</th>\n",
              "      <td>149</td>\n",
              "      <td>6.2</td>\n",
              "      <td>3.4</td>\n",
              "      <td>5.4</td>\n",
              "      <td>2.3</td>\n",
              "      <td>Iris-virginica</td>\n",
              "    </tr>\n",
              "    <tr>\n",
              "      <th>149</th>\n",
              "      <td>150</td>\n",
              "      <td>5.9</td>\n",
              "      <td>3.0</td>\n",
              "      <td>5.1</td>\n",
              "      <td>1.8</td>\n",
              "      <td>Iris-virginica</td>\n",
              "    </tr>\n",
              "  </tbody>\n",
              "</table>\n",
              "<p>150 rows × 6 columns</p>\n",
              "</div>"
            ],
            "text/plain": [
              "      Id  SepalLengthCm  ...  PetalWidthCm         Species\n",
              "0      1            5.1  ...           0.2     Iris-setosa\n",
              "1      2            4.9  ...           0.2     Iris-setosa\n",
              "2      3            4.7  ...           0.2     Iris-setosa\n",
              "3      4            4.6  ...           0.2     Iris-setosa\n",
              "4      5            5.0  ...           0.2     Iris-setosa\n",
              "..   ...            ...  ...           ...             ...\n",
              "145  146            6.7  ...           2.3  Iris-virginica\n",
              "146  147            6.3  ...           1.9  Iris-virginica\n",
              "147  148            6.5  ...           2.0  Iris-virginica\n",
              "148  149            6.2  ...           2.3  Iris-virginica\n",
              "149  150            5.9  ...           1.8  Iris-virginica\n",
              "\n",
              "[150 rows x 6 columns]"
            ]
          },
          "metadata": {
            "tags": []
          },
          "execution_count": 45
        }
      ]
    },
    {
      "cell_type": "markdown",
      "metadata": {
        "id": "pcGW5oOJagLe",
        "colab_type": "text"
      },
      "source": [
        "## Descrição do conjunto de dados"
      ]
    },
    {
      "cell_type": "code",
      "metadata": {
        "id": "xI9YIJBf1vKd",
        "colab_type": "code",
        "colab": {
          "base_uri": "https://localhost:8080/",
          "height": 425
        },
        "outputId": "a59e793d-0378-475e-bad7-8738771bf1d8"
      },
      "source": [
        "df = pd.DataFrame(iris.data,columns=iris.feature_names)\n",
        "\n",
        "df['Species'] = iris.target\n",
        "print(df.info())\n",
        "\n",
        "print(df.describe())"
      ],
      "execution_count": null,
      "outputs": [
        {
          "output_type": "stream",
          "text": [
            "<class 'pandas.core.frame.DataFrame'>\n",
            "RangeIndex: 150 entries, 0 to 149\n",
            "Data columns (total 5 columns):\n",
            " #   Column             Non-Null Count  Dtype  \n",
            "---  ------             --------------  -----  \n",
            " 0   sepal length (cm)  150 non-null    float64\n",
            " 1   sepal width (cm)   150 non-null    float64\n",
            " 2   petal length (cm)  150 non-null    float64\n",
            " 3   petal width (cm)   150 non-null    float64\n",
            " 4   Species            150 non-null    int64  \n",
            "dtypes: float64(4), int64(1)\n",
            "memory usage: 6.0 KB\n",
            "None\n",
            "       sepal length (cm)  sepal width (cm)  ...  petal width (cm)     Species\n",
            "count         150.000000        150.000000  ...        150.000000  150.000000\n",
            "mean            5.843333          3.057333  ...          1.199333    1.000000\n",
            "std             0.828066          0.435866  ...          0.762238    0.819232\n",
            "min             4.300000          2.000000  ...          0.100000    0.000000\n",
            "25%             5.100000          2.800000  ...          0.300000    0.000000\n",
            "50%             5.800000          3.000000  ...          1.300000    1.000000\n",
            "75%             6.400000          3.300000  ...          1.800000    2.000000\n",
            "max             7.900000          4.400000  ...          2.500000    2.000000\n",
            "\n",
            "[8 rows x 5 columns]\n"
          ],
          "name": "stdout"
        }
      ]
    },
    {
      "cell_type": "code",
      "metadata": {
        "id": "9uAJR6nejevu",
        "colab_type": "code",
        "colab": {
          "base_uri": "https://localhost:8080/",
          "height": 119
        },
        "outputId": "f57c9ee3-2d4b-46ff-eb8f-8e4e7b8fc93d"
      },
      "source": [
        "df.isnull().sum()"
      ],
      "execution_count": null,
      "outputs": [
        {
          "output_type": "execute_result",
          "data": {
            "text/plain": [
              "sepal length (cm)    0\n",
              "sepal width (cm)     0\n",
              "petal length (cm)    0\n",
              "petal width (cm)     0\n",
              "Species              0\n",
              "dtype: int64"
            ]
          },
          "metadata": {
            "tags": []
          },
          "execution_count": 47
        }
      ]
    },
    {
      "cell_type": "code",
      "metadata": {
        "id": "ameLG9XHnAnN",
        "colab_type": "code",
        "colab": {
          "base_uri": "https://localhost:8080/",
          "height": 119
        },
        "outputId": "3ccdadb3-22b8-49a4-8b0c-8ffeb92dc373"
      },
      "source": [
        "df.nunique()"
      ],
      "execution_count": null,
      "outputs": [
        {
          "output_type": "execute_result",
          "data": {
            "text/plain": [
              "sepal length (cm)    35\n",
              "sepal width (cm)     23\n",
              "petal length (cm)    43\n",
              "petal width (cm)     22\n",
              "Species               3\n",
              "dtype: int64"
            ]
          },
          "metadata": {
            "tags": []
          },
          "execution_count": 48
        }
      ]
    },
    {
      "cell_type": "markdown",
      "metadata": {
        "id": "BvBAm7m4a1l5",
        "colab_type": "text"
      },
      "source": [
        "## Preparação dos dados para treinamento"
      ]
    },
    {
      "cell_type": "code",
      "metadata": {
        "id": "aAYFD6XFHHqq",
        "colab_type": "code",
        "colab": {
          "base_uri": "https://localhost:8080/",
          "height": 1000
        },
        "outputId": "e90b255e-3b72-48db-f1e1-8aceb00bde4d"
      },
      "source": [
        "treino = iris.data\n",
        "treino"
      ],
      "execution_count": null,
      "outputs": [
        {
          "output_type": "execute_result",
          "data": {
            "text/plain": [
              "array([[5.1, 3.5, 1.4, 0.2],\n",
              "       [4.9, 3. , 1.4, 0.2],\n",
              "       [4.7, 3.2, 1.3, 0.2],\n",
              "       [4.6, 3.1, 1.5, 0.2],\n",
              "       [5. , 3.6, 1.4, 0.2],\n",
              "       [5.4, 3.9, 1.7, 0.4],\n",
              "       [4.6, 3.4, 1.4, 0.3],\n",
              "       [5. , 3.4, 1.5, 0.2],\n",
              "       [4.4, 2.9, 1.4, 0.2],\n",
              "       [4.9, 3.1, 1.5, 0.1],\n",
              "       [5.4, 3.7, 1.5, 0.2],\n",
              "       [4.8, 3.4, 1.6, 0.2],\n",
              "       [4.8, 3. , 1.4, 0.1],\n",
              "       [4.3, 3. , 1.1, 0.1],\n",
              "       [5.8, 4. , 1.2, 0.2],\n",
              "       [5.7, 4.4, 1.5, 0.4],\n",
              "       [5.4, 3.9, 1.3, 0.4],\n",
              "       [5.1, 3.5, 1.4, 0.3],\n",
              "       [5.7, 3.8, 1.7, 0.3],\n",
              "       [5.1, 3.8, 1.5, 0.3],\n",
              "       [5.4, 3.4, 1.7, 0.2],\n",
              "       [5.1, 3.7, 1.5, 0.4],\n",
              "       [4.6, 3.6, 1. , 0.2],\n",
              "       [5.1, 3.3, 1.7, 0.5],\n",
              "       [4.8, 3.4, 1.9, 0.2],\n",
              "       [5. , 3. , 1.6, 0.2],\n",
              "       [5. , 3.4, 1.6, 0.4],\n",
              "       [5.2, 3.5, 1.5, 0.2],\n",
              "       [5.2, 3.4, 1.4, 0.2],\n",
              "       [4.7, 3.2, 1.6, 0.2],\n",
              "       [4.8, 3.1, 1.6, 0.2],\n",
              "       [5.4, 3.4, 1.5, 0.4],\n",
              "       [5.2, 4.1, 1.5, 0.1],\n",
              "       [5.5, 4.2, 1.4, 0.2],\n",
              "       [4.9, 3.1, 1.5, 0.2],\n",
              "       [5. , 3.2, 1.2, 0.2],\n",
              "       [5.5, 3.5, 1.3, 0.2],\n",
              "       [4.9, 3.6, 1.4, 0.1],\n",
              "       [4.4, 3. , 1.3, 0.2],\n",
              "       [5.1, 3.4, 1.5, 0.2],\n",
              "       [5. , 3.5, 1.3, 0.3],\n",
              "       [4.5, 2.3, 1.3, 0.3],\n",
              "       [4.4, 3.2, 1.3, 0.2],\n",
              "       [5. , 3.5, 1.6, 0.6],\n",
              "       [5.1, 3.8, 1.9, 0.4],\n",
              "       [4.8, 3. , 1.4, 0.3],\n",
              "       [5.1, 3.8, 1.6, 0.2],\n",
              "       [4.6, 3.2, 1.4, 0.2],\n",
              "       [5.3, 3.7, 1.5, 0.2],\n",
              "       [5. , 3.3, 1.4, 0.2],\n",
              "       [7. , 3.2, 4.7, 1.4],\n",
              "       [6.4, 3.2, 4.5, 1.5],\n",
              "       [6.9, 3.1, 4.9, 1.5],\n",
              "       [5.5, 2.3, 4. , 1.3],\n",
              "       [6.5, 2.8, 4.6, 1.5],\n",
              "       [5.7, 2.8, 4.5, 1.3],\n",
              "       [6.3, 3.3, 4.7, 1.6],\n",
              "       [4.9, 2.4, 3.3, 1. ],\n",
              "       [6.6, 2.9, 4.6, 1.3],\n",
              "       [5.2, 2.7, 3.9, 1.4],\n",
              "       [5. , 2. , 3.5, 1. ],\n",
              "       [5.9, 3. , 4.2, 1.5],\n",
              "       [6. , 2.2, 4. , 1. ],\n",
              "       [6.1, 2.9, 4.7, 1.4],\n",
              "       [5.6, 2.9, 3.6, 1.3],\n",
              "       [6.7, 3.1, 4.4, 1.4],\n",
              "       [5.6, 3. , 4.5, 1.5],\n",
              "       [5.8, 2.7, 4.1, 1. ],\n",
              "       [6.2, 2.2, 4.5, 1.5],\n",
              "       [5.6, 2.5, 3.9, 1.1],\n",
              "       [5.9, 3.2, 4.8, 1.8],\n",
              "       [6.1, 2.8, 4. , 1.3],\n",
              "       [6.3, 2.5, 4.9, 1.5],\n",
              "       [6.1, 2.8, 4.7, 1.2],\n",
              "       [6.4, 2.9, 4.3, 1.3],\n",
              "       [6.6, 3. , 4.4, 1.4],\n",
              "       [6.8, 2.8, 4.8, 1.4],\n",
              "       [6.7, 3. , 5. , 1.7],\n",
              "       [6. , 2.9, 4.5, 1.5],\n",
              "       [5.7, 2.6, 3.5, 1. ],\n",
              "       [5.5, 2.4, 3.8, 1.1],\n",
              "       [5.5, 2.4, 3.7, 1. ],\n",
              "       [5.8, 2.7, 3.9, 1.2],\n",
              "       [6. , 2.7, 5.1, 1.6],\n",
              "       [5.4, 3. , 4.5, 1.5],\n",
              "       [6. , 3.4, 4.5, 1.6],\n",
              "       [6.7, 3.1, 4.7, 1.5],\n",
              "       [6.3, 2.3, 4.4, 1.3],\n",
              "       [5.6, 3. , 4.1, 1.3],\n",
              "       [5.5, 2.5, 4. , 1.3],\n",
              "       [5.5, 2.6, 4.4, 1.2],\n",
              "       [6.1, 3. , 4.6, 1.4],\n",
              "       [5.8, 2.6, 4. , 1.2],\n",
              "       [5. , 2.3, 3.3, 1. ],\n",
              "       [5.6, 2.7, 4.2, 1.3],\n",
              "       [5.7, 3. , 4.2, 1.2],\n",
              "       [5.7, 2.9, 4.2, 1.3],\n",
              "       [6.2, 2.9, 4.3, 1.3],\n",
              "       [5.1, 2.5, 3. , 1.1],\n",
              "       [5.7, 2.8, 4.1, 1.3],\n",
              "       [6.3, 3.3, 6. , 2.5],\n",
              "       [5.8, 2.7, 5.1, 1.9],\n",
              "       [7.1, 3. , 5.9, 2.1],\n",
              "       [6.3, 2.9, 5.6, 1.8],\n",
              "       [6.5, 3. , 5.8, 2.2],\n",
              "       [7.6, 3. , 6.6, 2.1],\n",
              "       [4.9, 2.5, 4.5, 1.7],\n",
              "       [7.3, 2.9, 6.3, 1.8],\n",
              "       [6.7, 2.5, 5.8, 1.8],\n",
              "       [7.2, 3.6, 6.1, 2.5],\n",
              "       [6.5, 3.2, 5.1, 2. ],\n",
              "       [6.4, 2.7, 5.3, 1.9],\n",
              "       [6.8, 3. , 5.5, 2.1],\n",
              "       [5.7, 2.5, 5. , 2. ],\n",
              "       [5.8, 2.8, 5.1, 2.4],\n",
              "       [6.4, 3.2, 5.3, 2.3],\n",
              "       [6.5, 3. , 5.5, 1.8],\n",
              "       [7.7, 3.8, 6.7, 2.2],\n",
              "       [7.7, 2.6, 6.9, 2.3],\n",
              "       [6. , 2.2, 5. , 1.5],\n",
              "       [6.9, 3.2, 5.7, 2.3],\n",
              "       [5.6, 2.8, 4.9, 2. ],\n",
              "       [7.7, 2.8, 6.7, 2. ],\n",
              "       [6.3, 2.7, 4.9, 1.8],\n",
              "       [6.7, 3.3, 5.7, 2.1],\n",
              "       [7.2, 3.2, 6. , 1.8],\n",
              "       [6.2, 2.8, 4.8, 1.8],\n",
              "       [6.1, 3. , 4.9, 1.8],\n",
              "       [6.4, 2.8, 5.6, 2.1],\n",
              "       [7.2, 3. , 5.8, 1.6],\n",
              "       [7.4, 2.8, 6.1, 1.9],\n",
              "       [7.9, 3.8, 6.4, 2. ],\n",
              "       [6.4, 2.8, 5.6, 2.2],\n",
              "       [6.3, 2.8, 5.1, 1.5],\n",
              "       [6.1, 2.6, 5.6, 1.4],\n",
              "       [7.7, 3. , 6.1, 2.3],\n",
              "       [6.3, 3.4, 5.6, 2.4],\n",
              "       [6.4, 3.1, 5.5, 1.8],\n",
              "       [6. , 3. , 4.8, 1.8],\n",
              "       [6.9, 3.1, 5.4, 2.1],\n",
              "       [6.7, 3.1, 5.6, 2.4],\n",
              "       [6.9, 3.1, 5.1, 2.3],\n",
              "       [5.8, 2.7, 5.1, 1.9],\n",
              "       [6.8, 3.2, 5.9, 2.3],\n",
              "       [6.7, 3.3, 5.7, 2.5],\n",
              "       [6.7, 3. , 5.2, 2.3],\n",
              "       [6.3, 2.5, 5. , 1.9],\n",
              "       [6.5, 3. , 5.2, 2. ],\n",
              "       [6.2, 3.4, 5.4, 2.3],\n",
              "       [5.9, 3. , 5.1, 1.8]])"
            ]
          },
          "metadata": {
            "tags": []
          },
          "execution_count": 49
        }
      ]
    },
    {
      "cell_type": "code",
      "metadata": {
        "id": "fiYTrhDybkiy",
        "colab_type": "code",
        "colab": {
          "base_uri": "https://localhost:8080/",
          "height": 136
        },
        "outputId": "33f85228-7d83-4bee-b1cf-1d44463bbbb1"
      },
      "source": [
        "classes = iris.target\n",
        "classes"
      ],
      "execution_count": null,
      "outputs": [
        {
          "output_type": "execute_result",
          "data": {
            "text/plain": [
              "array([0, 0, 0, 0, 0, 0, 0, 0, 0, 0, 0, 0, 0, 0, 0, 0, 0, 0, 0, 0, 0, 0,\n",
              "       0, 0, 0, 0, 0, 0, 0, 0, 0, 0, 0, 0, 0, 0, 0, 0, 0, 0, 0, 0, 0, 0,\n",
              "       0, 0, 0, 0, 0, 0, 1, 1, 1, 1, 1, 1, 1, 1, 1, 1, 1, 1, 1, 1, 1, 1,\n",
              "       1, 1, 1, 1, 1, 1, 1, 1, 1, 1, 1, 1, 1, 1, 1, 1, 1, 1, 1, 1, 1, 1,\n",
              "       1, 1, 1, 1, 1, 1, 1, 1, 1, 1, 1, 1, 2, 2, 2, 2, 2, 2, 2, 2, 2, 2,\n",
              "       2, 2, 2, 2, 2, 2, 2, 2, 2, 2, 2, 2, 2, 2, 2, 2, 2, 2, 2, 2, 2, 2,\n",
              "       2, 2, 2, 2, 2, 2, 2, 2, 2, 2, 2, 2, 2, 2, 2, 2, 2, 2])"
            ]
          },
          "metadata": {
            "tags": []
          },
          "execution_count": 20
        }
      ]
    },
    {
      "cell_type": "code",
      "metadata": {
        "id": "oJVgC98Fb64b",
        "colab_type": "code",
        "colab": {
          "base_uri": "https://localhost:8080/",
          "height": 34
        },
        "outputId": "2b1b3506-903a-477d-d2ad-02c50f06d06b"
      },
      "source": [
        "treino.shape"
      ],
      "execution_count": null,
      "outputs": [
        {
          "output_type": "execute_result",
          "data": {
            "text/plain": [
              "(150, 4)"
            ]
          },
          "metadata": {
            "tags": []
          },
          "execution_count": 21
        }
      ]
    },
    {
      "cell_type": "code",
      "metadata": {
        "id": "_zTdcyPVcDUB",
        "colab_type": "code",
        "colab": {
          "base_uri": "https://localhost:8080/",
          "height": 974
        },
        "outputId": "26f0df79-d850-464d-b67f-134d00deb7f0"
      },
      "source": [
        "%matplotlib inline\n",
        "from matplotlib import style\n",
        "style.use(\"ggplot\")\n",
        "\n",
        "fig, axes = plt.subplots(2, 2, figsize=(16,16))\n",
        "#sepal length vs sepal width\n",
        "axes[0,0].scatter(treino[:,0],treino[:,1], c=classes)\n",
        "axes[0,0].set_xlabel('Sepal length', fontsize=18)\n",
        "axes[0,0].set_ylabel('Sepal width', fontsize=18)\n",
        "axes[0,0].set_title('Sepal width vs Sepal length')\n",
        "\n",
        "#petal length vs petal width\n",
        "axes[0,1].scatter(treino[:,2], treino[:,3], c=classes)\n",
        "axes[0,1].set_xlabel('Petal length', fontsize=18)\n",
        "axes[0,1].set_ylabel('Petal width', fontsize=18)\n",
        "axes[0,1].set_title('Petal Width vs Petal Length')\n",
        "\n",
        "#sepal length vs classes\n",
        "axes[1,0].scatter(treino[:,0],classes, c=classes)\n",
        "axes[1,0].set_xlabel('Sepal length', fontsize=18)\n",
        "axes[1,0].set_ylabel('Classes', fontsize=18)\n",
        "axes[1,0].set_title('Sepal vs Classes')\n",
        "\n",
        "#Petal width vs classes\n",
        "axes[1,1].scatter(treino[:,3],classes, c=classes)\n",
        "axes[1,1].set_xlabel('Petal width', fontsize=18)\n",
        "axes[1,1].set_ylabel('Classes', fontsize=18)\n",
        "axes[1,1].set_title('Petal vs Classes')"
      ],
      "execution_count": null,
      "outputs": [
        {
          "output_type": "execute_result",
          "data": {
            "text/plain": [
              "Text(0.5, 1.0, 'Petal vs Classes')"
            ]
          },
          "metadata": {
            "tags": []
          },
          "execution_count": 50
        },
        {
          "output_type": "display_data",
          "data": {
            "image/png": "[encoded data removed]",
            "text/plain": [
              "<Figure size 1152x1152 with 4 Axes>"
            ]
          },
          "metadata": {
            "tags": []
          }
        }
      ]
    },
    {
      "cell_type": "markdown",
      "metadata": {
        "id": "n7UgzoKIp3jL",
        "colab_type": "text"
      },
      "source": [
        "Serão utilizadas 120 amostras para treinamento e 30 para testes."
      ]
    },
    {
      "cell_type": "code",
      "metadata": {
        "id": "Z_vB3yffpvoC",
        "colab_type": "code",
        "colab": {
          "base_uri": "https://localhost:8080/",
          "height": 34
        },
        "outputId": "4470d537-76f5-4594-8bde-5e8ef619114d"
      },
      "source": [
        "len(treino[:-30]), len(classes[:-30])"
      ],
      "execution_count": null,
      "outputs": [
        {
          "output_type": "execute_result",
          "data": {
            "text/plain": [
              "(120, 120)"
            ]
          },
          "metadata": {
            "tags": []
          },
          "execution_count": 26
        }
      ]
    },
    {
      "cell_type": "markdown",
      "metadata": {
        "id": "JBx7bAMqbWMk",
        "colab_type": "text"
      },
      "source": [
        "## Treinamento do modelo\n",
        "\n",
        "###1) Separação dados de treino utilizando apenas a classe 2 para testes"
      ]
    },
    {
      "cell_type": "code",
      "metadata": {
        "id": "_XFnpESmbXjW",
        "colab_type": "code",
        "colab": {
          "base_uri": "https://localhost:8080/",
          "height": 85
        },
        "outputId": "1a14c4e6-f808-40ad-8a22-7294ab1189bb"
      },
      "source": [
        "clf1 = svm.SVC().fit(treino[:-30],classes[:-30])\n",
        "clf1"
      ],
      "execution_count": null,
      "outputs": [
        {
          "output_type": "execute_result",
          "data": {
            "text/plain": [
              "SVC(C=1.0, break_ties=False, cache_size=200, class_weight=None, coef0=0.0,\n",
              "    decision_function_shape='ovr', degree=3, gamma='scale', kernel='rbf',\n",
              "    max_iter=-1, probability=False, random_state=None, shrinking=True,\n",
              "    tol=0.001, verbose=False)"
            ]
          },
          "metadata": {
            "tags": []
          },
          "execution_count": 51
        }
      ]
    },
    {
      "cell_type": "markdown",
      "metadata": {
        "id": "d31Mpyv2q0My",
        "colab_type": "text"
      },
      "source": [
        "> O que fizemos foi criar um objeto chamado **clf** . Esse objeto recebe o retorno do método *fit()* que é o treino do algoritmo SVM. Agora temos um SVM treinado com as 120 linhas da nossa base de dados. Para testar o classificador, vamos classificar as últimas 30 linhas dos dados (já que o algoritmo não conhece esses dados).\n",
        "\n",
        "\n",
        "###2) Distribuindo aleatoriamente a quantidade de amostras para cada classe no conjunto de treino e teste\n"
      ]
    },
    {
      "cell_type": "code",
      "metadata": {
        "id": "wxMALc4KnY6b",
        "colab_type": "code",
        "colab": {
          "base_uri": "https://localhost:8080/",
          "height": 51
        },
        "outputId": "35bced3a-1ff6-408c-fad6-5e75e7888e24"
      },
      "source": [
        "from sklearn.model_selection import train_test_split\n",
        "\n",
        "x_train, x_test, y_train, y_test = train_test_split(x, y, test_size=0.2)\n",
        "y_test"
      ],
      "execution_count": null,
      "outputs": [
        {
          "output_type": "execute_result",
          "data": {
            "text/plain": [
              "array([0, 0, 2, 1, 2, 1, 0, 0, 1, 1, 1, 1, 1, 2, 2, 2, 2, 2, 1, 2, 1, 0,\n",
              "       0, 2, 1, 1, 2, 1, 2, 1])"
            ]
          },
          "metadata": {
            "tags": []
          },
          "execution_count": 52
        }
      ]
    },
    {
      "cell_type": "code",
      "metadata": {
        "id": "p1_Ti4yfx2Oy",
        "colab_type": "code",
        "colab": {
          "base_uri": "https://localhost:8080/",
          "height": 85
        },
        "outputId": "fe57c3d0-727c-4201-d85b-e78cf7df13d3"
      },
      "source": [
        "clf_split = svm.SVC().fit(x_train,y_train)\n",
        "clf_split"
      ],
      "execution_count": null,
      "outputs": [
        {
          "output_type": "execute_result",
          "data": {
            "text/plain": [
              "SVC(C=1.0, break_ties=False, cache_size=200, class_weight=None, coef0=0.0,\n",
              "    decision_function_shape='ovr', degree=3, gamma='scale', kernel='rbf',\n",
              "    max_iter=-1, probability=False, random_state=None, shrinking=True,\n",
              "    tol=0.001, verbose=False)"
            ]
          },
          "metadata": {
            "tags": []
          },
          "execution_count": 53
        }
      ]
    },
    {
      "cell_type": "markdown",
      "metadata": {
        "id": "z2khRYcGwRet",
        "colab_type": "text"
      },
      "source": [
        "# Validando o Classificador"
      ]
    },
    {
      "cell_type": "markdown",
      "metadata": {
        "id": "zWsVUP4ev2e0",
        "colab_type": "text"
      },
      "source": [
        " Uma forma de validar o classificador é usar a técnica chamada **Cross Validation**, que consiste em dividir o dado de treino e teste de forma que todo o dado é testado. Dessa forma, resolvemos o problema de variância nos dados.\n",
        "\n",
        "Criaremos uma função que faz o **Cross Validation** e nos retorna a acurácia média. Assim, é só chamar a função na hora que precisarmos."
      ]
    },
    {
      "cell_type": "code",
      "metadata": {
        "id": "Vnl28SUHsxPR",
        "colab_type": "code",
        "colab": {}
      },
      "source": [
        "def Acuracia(clf,X,y):\n",
        "    resultados = cross_val_predict(clf, X, y, cv=5)\n",
        "    return metrics.accuracy_score(y,resultados)"
      ],
      "execution_count": null,
      "outputs": []
    },
    {
      "cell_type": "markdown",
      "metadata": {
        "id": "sLX1FAhccCZx",
        "colab_type": "text"
      },
      "source": [
        "###1) Separação dados de treino utilizando apenas a classe 2 para testes\n"
      ]
    },
    {
      "cell_type": "code",
      "metadata": {
        "id": "v_e3k8sXwhqr",
        "colab_type": "code",
        "colab": {
          "base_uri": "https://localhost:8080/",
          "height": 34
        },
        "outputId": "eadc1779-7ac1-41c1-c32d-592b5252df66"
      },
      "source": [
        "Acuracia(clf1,treino[:-30],classes[:-30])"
      ],
      "execution_count": null,
      "outputs": [
        {
          "output_type": "execute_result",
          "data": {
            "text/plain": [
              "0.9583333333333334"
            ]
          },
          "metadata": {
            "tags": []
          },
          "execution_count": 55
        }
      ]
    },
    {
      "cell_type": "markdown",
      "metadata": {
        "id": "_MpzlXIscjmn",
        "colab_type": "text"
      },
      "source": [
        "###2) Distribuindo aleatoriamente a quantidade de amostras para cada classe no conjunto de treino e teste"
      ]
    },
    {
      "cell_type": "code",
      "metadata": {
        "id": "e4HOPAQa4K56",
        "colab_type": "code",
        "colab": {
          "base_uri": "https://localhost:8080/",
          "height": 34
        },
        "outputId": "e083615e-0b4a-4049-ca1c-6edfe75bcc80"
      },
      "source": [
        "Acuracia(clf_split,x_train,y_train)"
      ],
      "execution_count": null,
      "outputs": [
        {
          "output_type": "execute_result",
          "data": {
            "text/plain": [
              "0.975"
            ]
          },
          "metadata": {
            "tags": []
          },
          "execution_count": 56
        }
      ]
    },
    {
      "cell_type": "markdown",
      "metadata": {
        "id": "P0-n471MsJBI",
        "colab_type": "text"
      },
      "source": [
        "# Testando o Classificador"
      ]
    },
    {
      "cell_type": "markdown",
      "metadata": {
        "colab_type": "text",
        "id": "cu0IBQ-_c36e"
      },
      "source": [
        "###1) Separação dados de treino utilizando apenas a classe 2 para testes\n"
      ]
    },
    {
      "cell_type": "code",
      "metadata": {
        "id": "8otR8Gt_qKhX",
        "colab_type": "code",
        "colab": {
          "base_uri": "https://localhost:8080/",
          "height": 68
        },
        "outputId": "d7ae93c8-d82b-49ae-e7e7-ccc31fa62c43"
      },
      "source": [
        "print('Predição =', clf1.predict(treino[-30:]))\n",
        "print('Classe Verdadeira =', classes[-30:])\n",
        "\n",
        "from sklearn.metrics import accuracy_score\n",
        "\n",
        "print('Acurácia =', accuracy_score(clf1.predict(treino[-30:]), classes[-30:]))"
      ],
      "execution_count": null,
      "outputs": [
        {
          "output_type": "stream",
          "text": [
            "Predição = [2 1 2 1 2 2 1 1 2 2 2 2 2 1 2 2 2 2 1 2 2 2 1 2 2 2 1 2 2 1]\n",
            "Classe Verdadeira = [2 2 2 2 2 2 2 2 2 2 2 2 2 2 2 2 2 2 2 2 2 2 2 2 2 2 2 2 2 2]\n",
            "Acurácia = 0.7\n"
          ],
          "name": "stdout"
        }
      ]
    },
    {
      "cell_type": "markdown",
      "metadata": {
        "colab_type": "text",
        "id": "D91YPc4ncxOp"
      },
      "source": [
        "###2) Distribuindo aleatoriamente a quantidade de amostras para cada classe no conjunto de treino e teste"
      ]
    },
    {
      "cell_type": "code",
      "metadata": {
        "id": "udaYrLHAyPpX",
        "colab_type": "code",
        "colab": {
          "base_uri": "https://localhost:8080/",
          "height": 68
        },
        "outputId": "35298460-e566-4c46-8339-c7b79474b5f7"
      },
      "source": [
        "print('Predição =', clf_split.predict(x_test))\n",
        "print('Classe Verdadeira =', y_test)\n",
        "\n",
        "from sklearn.metrics import accuracy_score\n",
        "\n",
        "print('Acurácia =', accuracy_score(clf_split.predict(x_test), y_test))"
      ],
      "execution_count": null,
      "outputs": [
        {
          "output_type": "stream",
          "text": [
            "Predição = [0 0 1 1 2 1 0 0 2 2 1 1 1 2 2 2 2 2 1 2 1 0 0 2 2 1 2 1 2 1]\n",
            "Classe Verdadeira = [0 0 2 1 2 1 0 0 1 1 1 1 1 2 2 2 2 2 1 2 1 0 0 2 1 1 2 1 2 1]\n",
            "Acurácia = 0.8666666666666667\n"
          ],
          "name": "stdout"
        }
      ]
    },
    {
      "cell_type": "code",
      "metadata": {
        "id": "V0N_W2lmsg2v",
        "colab_type": "code",
        "colab": {
          "base_uri": "https://localhost:8080/",
          "height": 969
        },
        "outputId": "5dec4a66-a6a3-4890-9b18-ad6fa8d821f7"
      },
      "source": [
        "%matplotlib inline\n",
        "from matplotlib import style\n",
        "style.use(\"ggplot\")\n",
        "\n",
        "fig, axes = plt.subplots(2, 2, figsize =(16,16))\n",
        "#sepal length vs sepal width\n",
        "axes[0,0].set_xlabel('Sepal length')\n",
        "axes[0,0].set_ylabel('Sepal width')\n",
        "axes[0,0].set_title('Sepal width vs Sepal length')\n",
        "axes[0,0].scatter(x_test[:,0],x_test[:,1], c=clf_split.predict(x_test))\n",
        "#axes[0,0].scatter(treino[-30:,0],treino[-30:,1], c=clf1.predict(treino[-30:]))\n",
        "\n",
        "#petal length vs petal width\n",
        "axes[0,1].set_xlabel('Petal length')\n",
        "axes[0,1].set_ylabel('Petal width')\n",
        "axes[0,1].set_title('Petal Width vs Length')\n",
        "axes[0,1].scatter(x_test[:,2],x_test[:,3], c=clf_split.predict(x_test))\n",
        "#axes[0,1].scatter(treino[-30:,2], treino[-30:,3], c=clf1.predict(treino[-30:]))\n",
        "\n",
        "#Classificador\n",
        "axes[1,0].set_xlabel('Amostras')\n",
        "axes[1,0].set_ylabel('Classes')\n",
        "axes[1,0].set_title('Classificação do SVM')\n",
        "axes[1,0].scatter(range(len(y_test)),y_test, c=clf_split.predict(x_test))\n",
        "#axes[1,0].scatter(range(len(classes[-30:])),classes[-30:],c=clf1.predict(treino[-30:]))\n",
        "\n",
        "#Classificador\n",
        "axes[1,1].set_xlabel('Amostras')\n",
        "axes[1,1].set_ylabel('Classes')\n",
        "axes[1,1].set_title('Classificação do SVM')\n",
        "#axes[1,1].scatter(range(len(y_test)),y_test, c=clf_split.predict(x_test))\n",
        "axes[1,1].scatter(range(len(classes[-30:])),classes[-30:],c=clf1.predict(treino[-30:]))"
      ],
      "execution_count": null,
      "outputs": [
        {
          "output_type": "execute_result",
          "data": {
            "text/plain": [
              "<matplotlib.collections.PathCollection at 0x7faff128a4e0>"
            ]
          },
          "metadata": {
            "tags": []
          },
          "execution_count": 59
        },
        {
          "output_type": "display_data",
          "data": {
            "image/png": "[encoded data removed]",
            "text/plain": [
              "<Figure size 1152x1152 with 4 Axes>"
            ]
          },
          "metadata": {
            "tags": []
          }
        }
      ]
    }
  ]
}