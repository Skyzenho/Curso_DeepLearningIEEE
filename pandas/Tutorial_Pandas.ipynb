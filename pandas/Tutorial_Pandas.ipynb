{
  "nbformat": 4,
  "nbformat_minor": 0,
  "metadata": {
    "colab": {
      "name": "Tutorial_Pandas",
      "provenance": [],
      "collapsed_sections": []
    },
    "kernelspec": {
      "name": "python3",
      "display_name": "Python 3"
    }
  },
  "cells": [
    {
      "cell_type": "markdown",
      "metadata": {
        "id": "iADSpa_IGGq3",
        "colab_type": "text"
      },
      "source": [
        "# Tutorial Basico Pandas\n",
        "\n",
        "Nesse tutorial vamos aprender funções basicas do pandas trabalhando com um conjunto de dados sobre os pokemons disponivel no site Kaggle (https://www.kaggle.com/abcsds/pokemon)\n",
        "\n",
        "Conteudo :\n",
        "- Leitura de arquivos\n",
        "- Descrição Estatística \n",
        "- Indexação dos elementos\n",
        "- Reorganizando Dados\n",
        "- Filtrando dados\n",
        "- Reagrupando dados\n",
        "- Salvando dataframe\n",
        "\n",
        "Material auxiliar:\n",
        "- https://pandas.pydata.org/pandas-docs/stable/getting_started/10min.html\n",
        "- https://medium.com/data-hackers/uma-introdu%C3%A7%C3%A3o-simples-ao-pandas-1e15eea37fa1"
      ]
    },
    {
      "cell_type": "markdown",
      "metadata": {
        "id": "ynzlook5GTCX",
        "colab_type": "text"
      },
      "source": [
        "#### Import pandas"
      ]
    },
    {
      "cell_type": "code",
      "metadata": {
        "id": "ZSYAa3G-F8B-",
        "colab_type": "code",
        "colab": {}
      },
      "source": [
        "import pandas as pd\n",
        "import numpy as np\n",
        "import matplotlib.pyplot as plt"
      ],
      "execution_count": null,
      "outputs": []
    },
    {
      "cell_type": "markdown",
      "metadata": {
        "id": "I8TioibpGXyy",
        "colab_type": "text"
      },
      "source": [
        "#### Criação de dados"
      ]
    },
    {
      "cell_type": "code",
      "metadata": {
        "id": "G18UHoDTGWEH",
        "colab_type": "code",
        "colab": {}
      },
      "source": [
        "s = pd.Series([1, 3, 5, None, 6, 8]) # Cria uma serie de dados\n",
        "print(s)\n",
        "\n",
        "dates = pd.date_range('20200401', periods=6)\n",
        "dataframe = pd.DataFrame(np.random.randn(6, 4), index=dates, columns=list('ABCD'))\n",
        "print(dataframe)"
      ],
      "execution_count": null,
      "outputs": []
    },
    {
      "cell_type": "markdown",
      "metadata": {
        "id": "HnOFvqoNGV12",
        "colab_type": "text"
      },
      "source": [
        "## Leitura de arquivos\n",
        "\n",
        "A biblioteca pandas permite a criação da estrutura de dados utilizando diferentes formartos dentre eles:\n",
        "\n",
        "Formatos:\n",
        "- CSV : Comma-separated values (Arquivo separado por virgulas)\n",
        "- txt : Arquivo de texto (Precisa definir um separador)\n",
        "- xlsx : Formato utilizado pelo excel\n",
        "\n",
        "Neste arquivo vamos nos concentrar no formato mais utilizado csv.\n",
        "A seguir trabalharemos com o conjuntos de dados dos pokemons"
      ]
    },
    {
      "cell_type": "code",
      "metadata": {
        "id": "gX9bnn2UGeSV",
        "colab_type": "code",
        "colab": {
          "base_uri": "https://localhost:8080/",
          "height": 419
        },
        "outputId": "a51bb272-56eb-450e-e2d6-95c6844bbac7"
      },
      "source": [
        "df = pd.read_csv('pokemon_data.csv',index_col=False) # Leitura do arquivo formato csv\n",
        "#df = pd.read_excel('pokemon_data.xlsx') # leitura arquivo em formato xlsx\n",
        "#df = pd.read_csv('pokemon_data.txt', delimiter='\\t') # leitura arquivo txt\n",
        "df"
      ],
      "execution_count": null,
      "outputs": [
        {
          "output_type": "execute_result",
          "data": {
            "text/html": [
              "<div>\n",
              "<style scoped>\n",
              "    .dataframe tbody tr th:only-of-type {\n",
              "        vertical-align: middle;\n",
              "    }\n",
              "\n",
              "    .dataframe tbody tr th {\n",
              "        vertical-align: top;\n",
              "    }\n",
              "\n",
              "    .dataframe thead th {\n",
              "        text-align: right;\n",
              "    }\n",
              "</style>\n",
              "<table border=\"1\" class=\"dataframe\">\n",
              "  <thead>\n",
              "    <tr style=\"text-align: right;\">\n",
              "      <th></th>\n",
              "      <th>#</th>\n",
              "      <th>Name</th>\n",
              "      <th>Type 1</th>\n",
              "      <th>Type 2</th>\n",
              "      <th>HP</th>\n",
              "      <th>Attack</th>\n",
              "      <th>Defense</th>\n",
              "      <th>Sp. Atk</th>\n",
              "      <th>Sp. Def</th>\n",
              "      <th>Speed</th>\n",
              "      <th>Generation</th>\n",
              "      <th>Legendary</th>\n",
              "    </tr>\n",
              "  </thead>\n",
              "  <tbody>\n",
              "    <tr>\n",
              "      <th>0</th>\n",
              "      <td>1</td>\n",
              "      <td>Bulbasaur</td>\n",
              "      <td>Grass</td>\n",
              "      <td>Poison</td>\n",
              "      <td>45</td>\n",
              "      <td>49</td>\n",
              "      <td>49</td>\n",
              "      <td>65</td>\n",
              "      <td>65</td>\n",
              "      <td>45</td>\n",
              "      <td>1</td>\n",
              "      <td>False</td>\n",
              "    </tr>\n",
              "    <tr>\n",
              "      <th>1</th>\n",
              "      <td>2</td>\n",
              "      <td>Ivysaur</td>\n",
              "      <td>Grass</td>\n",
              "      <td>Poison</td>\n",
              "      <td>60</td>\n",
              "      <td>62</td>\n",
              "      <td>63</td>\n",
              "      <td>80</td>\n",
              "      <td>80</td>\n",
              "      <td>60</td>\n",
              "      <td>1</td>\n",
              "      <td>False</td>\n",
              "    </tr>\n",
              "    <tr>\n",
              "      <th>2</th>\n",
              "      <td>3</td>\n",
              "      <td>Venusaur</td>\n",
              "      <td>Grass</td>\n",
              "      <td>Poison</td>\n",
              "      <td>80</td>\n",
              "      <td>82</td>\n",
              "      <td>83</td>\n",
              "      <td>100</td>\n",
              "      <td>100</td>\n",
              "      <td>80</td>\n",
              "      <td>1</td>\n",
              "      <td>False</td>\n",
              "    </tr>\n",
              "    <tr>\n",
              "      <th>3</th>\n",
              "      <td>3</td>\n",
              "      <td>VenusaurMega Venusaur</td>\n",
              "      <td>Grass</td>\n",
              "      <td>Poison</td>\n",
              "      <td>80</td>\n",
              "      <td>100</td>\n",
              "      <td>123</td>\n",
              "      <td>122</td>\n",
              "      <td>120</td>\n",
              "      <td>80</td>\n",
              "      <td>1</td>\n",
              "      <td>False</td>\n",
              "    </tr>\n",
              "    <tr>\n",
              "      <th>4</th>\n",
              "      <td>4</td>\n",
              "      <td>Charmander</td>\n",
              "      <td>Fire</td>\n",
              "      <td>NaN</td>\n",
              "      <td>39</td>\n",
              "      <td>52</td>\n",
              "      <td>43</td>\n",
              "      <td>60</td>\n",
              "      <td>50</td>\n",
              "      <td>65</td>\n",
              "      <td>1</td>\n",
              "      <td>False</td>\n",
              "    </tr>\n",
              "    <tr>\n",
              "      <th>...</th>\n",
              "      <td>...</td>\n",
              "      <td>...</td>\n",
              "      <td>...</td>\n",
              "      <td>...</td>\n",
              "      <td>...</td>\n",
              "      <td>...</td>\n",
              "      <td>...</td>\n",
              "      <td>...</td>\n",
              "      <td>...</td>\n",
              "      <td>...</td>\n",
              "      <td>...</td>\n",
              "      <td>...</td>\n",
              "    </tr>\n",
              "    <tr>\n",
              "      <th>795</th>\n",
              "      <td>719</td>\n",
              "      <td>Diancie</td>\n",
              "      <td>Rock</td>\n",
              "      <td>Fairy</td>\n",
              "      <td>50</td>\n",
              "      <td>100</td>\n",
              "      <td>150</td>\n",
              "      <td>100</td>\n",
              "      <td>150</td>\n",
              "      <td>50</td>\n",
              "      <td>6</td>\n",
              "      <td>True</td>\n",
              "    </tr>\n",
              "    <tr>\n",
              "      <th>796</th>\n",
              "      <td>719</td>\n",
              "      <td>DiancieMega Diancie</td>\n",
              "      <td>Rock</td>\n",
              "      <td>Fairy</td>\n",
              "      <td>50</td>\n",
              "      <td>160</td>\n",
              "      <td>110</td>\n",
              "      <td>160</td>\n",
              "      <td>110</td>\n",
              "      <td>110</td>\n",
              "      <td>6</td>\n",
              "      <td>True</td>\n",
              "    </tr>\n",
              "    <tr>\n",
              "      <th>797</th>\n",
              "      <td>720</td>\n",
              "      <td>HoopaHoopa Confined</td>\n",
              "      <td>Psychic</td>\n",
              "      <td>Ghost</td>\n",
              "      <td>80</td>\n",
              "      <td>110</td>\n",
              "      <td>60</td>\n",
              "      <td>150</td>\n",
              "      <td>130</td>\n",
              "      <td>70</td>\n",
              "      <td>6</td>\n",
              "      <td>True</td>\n",
              "    </tr>\n",
              "    <tr>\n",
              "      <th>798</th>\n",
              "      <td>720</td>\n",
              "      <td>HoopaHoopa Unbound</td>\n",
              "      <td>Psychic</td>\n",
              "      <td>Dark</td>\n",
              "      <td>80</td>\n",
              "      <td>160</td>\n",
              "      <td>60</td>\n",
              "      <td>170</td>\n",
              "      <td>130</td>\n",
              "      <td>80</td>\n",
              "      <td>6</td>\n",
              "      <td>True</td>\n",
              "    </tr>\n",
              "    <tr>\n",
              "      <th>799</th>\n",
              "      <td>721</td>\n",
              "      <td>Volcanion</td>\n",
              "      <td>Fire</td>\n",
              "      <td>Water</td>\n",
              "      <td>80</td>\n",
              "      <td>110</td>\n",
              "      <td>120</td>\n",
              "      <td>130</td>\n",
              "      <td>90</td>\n",
              "      <td>70</td>\n",
              "      <td>6</td>\n",
              "      <td>True</td>\n",
              "    </tr>\n",
              "  </tbody>\n",
              "</table>\n",
              "<p>800 rows × 12 columns</p>\n",
              "</div>"
            ],
            "text/plain": [
              "       #                   Name   Type 1  ... Speed  Generation  Legendary\n",
              "0      1              Bulbasaur    Grass  ...    45           1      False\n",
              "1      2                Ivysaur    Grass  ...    60           1      False\n",
              "2      3               Venusaur    Grass  ...    80           1      False\n",
              "3      3  VenusaurMega Venusaur    Grass  ...    80           1      False\n",
              "4      4             Charmander     Fire  ...    65           1      False\n",
              "..   ...                    ...      ...  ...   ...         ...        ...\n",
              "795  719                Diancie     Rock  ...    50           6       True\n",
              "796  719    DiancieMega Diancie     Rock  ...   110           6       True\n",
              "797  720    HoopaHoopa Confined  Psychic  ...    70           6       True\n",
              "798  720     HoopaHoopa Unbound  Psychic  ...    80           6       True\n",
              "799  721              Volcanion     Fire  ...    70           6       True\n",
              "\n",
              "[800 rows x 12 columns]"
            ]
          },
          "metadata": {
            "tags": []
          },
          "execution_count": 7
        }
      ]
    },
    {
      "cell_type": "markdown",
      "metadata": {
        "id": "GZWM3nuMGt4s",
        "colab_type": "text"
      },
      "source": [
        "###### Visualizar os dados"
      ]
    },
    {
      "cell_type": "code",
      "metadata": {
        "id": "X95l7dXHGvRM",
        "colab_type": "code",
        "colab": {}
      },
      "source": [
        "df.head(3) # Apresenta apenas os 3 primeiros itens"
      ],
      "execution_count": null,
      "outputs": []
    },
    {
      "cell_type": "code",
      "metadata": {
        "id": "WZfqWTNgGyRd",
        "colab_type": "code",
        "colab": {}
      },
      "source": [
        "df.tail(3) # Apresenta apenas os 3 ultimos itens"
      ],
      "execution_count": null,
      "outputs": []
    },
    {
      "cell_type": "markdown",
      "metadata": {
        "id": "nBtHV81nGzq9",
        "colab_type": "text"
      },
      "source": [
        "###### Apresentando intervalos "
      ]
    },
    {
      "cell_type": "code",
      "metadata": {
        "id": "ZNeFyVoiG0D3",
        "colab_type": "code",
        "colab": {}
      },
      "source": [
        "df[5:10]"
      ],
      "execution_count": null,
      "outputs": []
    },
    {
      "cell_type": "markdown",
      "metadata": {
        "id": "vxdt-iA1G3Oo",
        "colab_type": "text"
      },
      "source": [
        "## Descrição Estatística \n",
        "\n",
        "Podemos gerar um relatorio estatístico basico apartir da função describe."
      ]
    },
    {
      "cell_type": "code",
      "metadata": {
        "id": "F1_mZsrKG0qi",
        "colab_type": "code",
        "colab": {
          "base_uri": "https://localhost:8080/",
          "height": 297
        },
        "outputId": "0fd696e6-a940-4cf1-a72a-309e30425e8b"
      },
      "source": [
        "df.describe()"
      ],
      "execution_count": null,
      "outputs": [
        {
          "output_type": "execute_result",
          "data": {
            "text/html": [
              "<div>\n",
              "<style scoped>\n",
              "    .dataframe tbody tr th:only-of-type {\n",
              "        vertical-align: middle;\n",
              "    }\n",
              "\n",
              "    .dataframe tbody tr th {\n",
              "        vertical-align: top;\n",
              "    }\n",
              "\n",
              "    .dataframe thead th {\n",
              "        text-align: right;\n",
              "    }\n",
              "</style>\n",
              "<table border=\"1\" class=\"dataframe\">\n",
              "  <thead>\n",
              "    <tr style=\"text-align: right;\">\n",
              "      <th></th>\n",
              "      <th>#</th>\n",
              "      <th>HP</th>\n",
              "      <th>Attack</th>\n",
              "      <th>Defense</th>\n",
              "      <th>Sp. Atk</th>\n",
              "      <th>Sp. Def</th>\n",
              "      <th>Speed</th>\n",
              "      <th>Generation</th>\n",
              "    </tr>\n",
              "  </thead>\n",
              "  <tbody>\n",
              "    <tr>\n",
              "      <th>count</th>\n",
              "      <td>800.000000</td>\n",
              "      <td>800.000000</td>\n",
              "      <td>800.000000</td>\n",
              "      <td>800.000000</td>\n",
              "      <td>800.000000</td>\n",
              "      <td>800.000000</td>\n",
              "      <td>800.000000</td>\n",
              "      <td>800.00000</td>\n",
              "    </tr>\n",
              "    <tr>\n",
              "      <th>mean</th>\n",
              "      <td>362.813750</td>\n",
              "      <td>69.258750</td>\n",
              "      <td>79.001250</td>\n",
              "      <td>73.842500</td>\n",
              "      <td>72.820000</td>\n",
              "      <td>71.902500</td>\n",
              "      <td>68.277500</td>\n",
              "      <td>3.32375</td>\n",
              "    </tr>\n",
              "    <tr>\n",
              "      <th>std</th>\n",
              "      <td>208.343798</td>\n",
              "      <td>25.534669</td>\n",
              "      <td>32.457366</td>\n",
              "      <td>31.183501</td>\n",
              "      <td>32.722294</td>\n",
              "      <td>27.828916</td>\n",
              "      <td>29.060474</td>\n",
              "      <td>1.66129</td>\n",
              "    </tr>\n",
              "    <tr>\n",
              "      <th>min</th>\n",
              "      <td>1.000000</td>\n",
              "      <td>1.000000</td>\n",
              "      <td>5.000000</td>\n",
              "      <td>5.000000</td>\n",
              "      <td>10.000000</td>\n",
              "      <td>20.000000</td>\n",
              "      <td>5.000000</td>\n",
              "      <td>1.00000</td>\n",
              "    </tr>\n",
              "    <tr>\n",
              "      <th>25%</th>\n",
              "      <td>184.750000</td>\n",
              "      <td>50.000000</td>\n",
              "      <td>55.000000</td>\n",
              "      <td>50.000000</td>\n",
              "      <td>49.750000</td>\n",
              "      <td>50.000000</td>\n",
              "      <td>45.000000</td>\n",
              "      <td>2.00000</td>\n",
              "    </tr>\n",
              "    <tr>\n",
              "      <th>50%</th>\n",
              "      <td>364.500000</td>\n",
              "      <td>65.000000</td>\n",
              "      <td>75.000000</td>\n",
              "      <td>70.000000</td>\n",
              "      <td>65.000000</td>\n",
              "      <td>70.000000</td>\n",
              "      <td>65.000000</td>\n",
              "      <td>3.00000</td>\n",
              "    </tr>\n",
              "    <tr>\n",
              "      <th>75%</th>\n",
              "      <td>539.250000</td>\n",
              "      <td>80.000000</td>\n",
              "      <td>100.000000</td>\n",
              "      <td>90.000000</td>\n",
              "      <td>95.000000</td>\n",
              "      <td>90.000000</td>\n",
              "      <td>90.000000</td>\n",
              "      <td>5.00000</td>\n",
              "    </tr>\n",
              "    <tr>\n",
              "      <th>max</th>\n",
              "      <td>721.000000</td>\n",
              "      <td>255.000000</td>\n",
              "      <td>190.000000</td>\n",
              "      <td>230.000000</td>\n",
              "      <td>194.000000</td>\n",
              "      <td>230.000000</td>\n",
              "      <td>180.000000</td>\n",
              "      <td>6.00000</td>\n",
              "    </tr>\n",
              "  </tbody>\n",
              "</table>\n",
              "</div>"
            ],
            "text/plain": [
              "                #          HP      Attack  ...     Sp. Def       Speed  Generation\n",
              "count  800.000000  800.000000  800.000000  ...  800.000000  800.000000   800.00000\n",
              "mean   362.813750   69.258750   79.001250  ...   71.902500   68.277500     3.32375\n",
              "std    208.343798   25.534669   32.457366  ...   27.828916   29.060474     1.66129\n",
              "min      1.000000    1.000000    5.000000  ...   20.000000    5.000000     1.00000\n",
              "25%    184.750000   50.000000   55.000000  ...   50.000000   45.000000     2.00000\n",
              "50%    364.500000   65.000000   75.000000  ...   70.000000   65.000000     3.00000\n",
              "75%    539.250000   80.000000  100.000000  ...   90.000000   90.000000     5.00000\n",
              "max    721.000000  255.000000  190.000000  ...  230.000000  180.000000     6.00000\n",
              "\n",
              "[8 rows x 8 columns]"
            ]
          },
          "metadata": {
            "tags": []
          },
          "execution_count": 3
        }
      ]
    },
    {
      "cell_type": "markdown",
      "metadata": {
        "id": "M-UZ9wVbG6XY",
        "colab_type": "text"
      },
      "source": [
        "Podemos gerar um histograma sobre qualquer coluna do conjunto de dados"
      ]
    },
    {
      "cell_type": "code",
      "metadata": {
        "id": "gBSoz-ilG7c_",
        "colab_type": "code",
        "colab": {}
      },
      "source": [
        "df['HP'].hist()"
      ],
      "execution_count": null,
      "outputs": []
    },
    {
      "cell_type": "markdown",
      "metadata": {
        "id": "LWraCkvKG8y2",
        "colab_type": "text"
      },
      "source": [
        "## Indexação dos elementos\n",
        "\n",
        "Existem diversos formas de realizar a leitura da estrutura de dados aconselhamos verificar a documentação para maiores informações"
      ]
    },
    {
      "cell_type": "markdown",
      "metadata": {
        "id": "i9ylWPJEG-r4",
        "colab_type": "text"
      },
      "source": [
        "###### Selecionando uma ou mais colunas"
      ]
    },
    {
      "cell_type": "code",
      "metadata": {
        "id": "rDSjQiJ0G_Cq",
        "colab_type": "code",
        "colab": {}
      },
      "source": [
        "df['Name'] \n",
        "#df.Name"
      ],
      "execution_count": null,
      "outputs": []
    },
    {
      "cell_type": "code",
      "metadata": {
        "id": "X8gUK1wXG_wO",
        "colab_type": "code",
        "colab": {}
      },
      "source": [
        "df[['Name','HP']]"
      ],
      "execution_count": null,
      "outputs": []
    },
    {
      "cell_type": "markdown",
      "metadata": {
        "id": "-aws5cAoHDcr",
        "colab_type": "text"
      },
      "source": [
        "###### Leitura apartir de uma posição específica (Linha, Coluna)"
      ]
    },
    {
      "cell_type": "code",
      "metadata": {
        "id": "AemXcb3oHE5L",
        "colab_type": "code",
        "colab": {}
      },
      "source": [
        "df.iloc[2,1]"
      ],
      "execution_count": null,
      "outputs": []
    },
    {
      "cell_type": "code",
      "metadata": {
        "id": "g2j92iPVHG7S",
        "colab_type": "code",
        "colab": {}
      },
      "source": [
        "df.loc[df['Type 1'] == 'Fire'][:10] # Selecionando os 10 primeiros pokemons do elemento fogo"
      ],
      "execution_count": null,
      "outputs": []
    },
    {
      "cell_type": "markdown",
      "metadata": {
        "id": "901OTHWSHPSb",
        "colab_type": "text"
      },
      "source": [
        "###### Iterando o dataframe"
      ]
    },
    {
      "cell_type": "code",
      "metadata": {
        "id": "12I8pwsRHQ9D",
        "colab_type": "code",
        "colab": {}
      },
      "source": [
        "for index, row in df.iterrows():\n",
        "  print(index, row['Name'])"
      ],
      "execution_count": null,
      "outputs": []
    },
    {
      "cell_type": "markdown",
      "metadata": {
        "id": "SP7ZnGCUHWAY",
        "colab_type": "text"
      },
      "source": [
        "## Reorganizando Dados"
      ]
    },
    {
      "cell_type": "code",
      "metadata": {
        "id": "Z4UDCOXHHYJE",
        "colab_type": "code",
        "colab": {}
      },
      "source": [
        "# Apresentar em ordem decrecente os pokemons com base no seu ataque\n",
        "\n",
        "df.sort_values('Attack',ascending=False)"
      ],
      "execution_count": null,
      "outputs": []
    },
    {
      "cell_type": "markdown",
      "metadata": {
        "id": "FMGInDr5HaZY",
        "colab_type": "text"
      },
      "source": [
        "Podemos Criar novas colunas por atribuição"
      ]
    },
    {
      "cell_type": "code",
      "metadata": {
        "id": "8oEw2ANVHcda",
        "colab_type": "code",
        "colab": {}
      },
      "source": [
        "df['Total'] = df['HP'] + df['Attack'] + df['Defense'] + df['Sp. Atk'] + df['Sp. Def'] + df['Speed']\n",
        "\n",
        "df"
      ],
      "execution_count": null,
      "outputs": []
    },
    {
      "cell_type": "markdown",
      "metadata": {
        "id": "I1fSWcUCHgbs",
        "colab_type": "text"
      },
      "source": [
        "Para deletar colunas de forma analoga é preciso reatribuir"
      ]
    },
    {
      "cell_type": "code",
      "metadata": {
        "id": "xpUW7dfnHh5M",
        "colab_type": "code",
        "colab": {}
      },
      "source": [
        "df = df.drop(columns=['Total'])\n",
        "df"
      ],
      "execution_count": null,
      "outputs": []
    },
    {
      "cell_type": "markdown",
      "metadata": {
        "id": "tF8lwTfMHlsO",
        "colab_type": "text"
      },
      "source": [
        "## Filtrando dados"
      ]
    },
    {
      "cell_type": "code",
      "metadata": {
        "id": "lW-SH5KPHoGj",
        "colab_type": "code",
        "colab": {}
      },
      "source": [
        "#Apresentar Os pokemons Lendarios\n",
        "df.loc[df['Legendary'] == True]"
      ],
      "execution_count": null,
      "outputs": []
    },
    {
      "cell_type": "code",
      "metadata": {
        "id": "3p7cmHdsHqaZ",
        "colab_type": "code",
        "colab": {}
      },
      "source": [
        "#Apresentar os pokemons com HP superior a 100\n",
        "df[df['HP'] > 100]"
      ],
      "execution_count": null,
      "outputs": []
    },
    {
      "cell_type": "code",
      "metadata": {
        "id": "AwJjm4nQHtQO",
        "colab_type": "code",
        "colab": {}
      },
      "source": [
        "# Selecionar pokemons do tipo Grass e Poison com Hp maior que 70\n",
        "df.loc[(df['Type 1'] == 'Grass') & (df['Type 2'] == 'Poison') & (df['HP'] > 70)] # & operador and | operador or"
      ],
      "execution_count": null,
      "outputs": []
    },
    {
      "cell_type": "code",
      "metadata": {
        "id": "YnEn8UpDHvK5",
        "colab_type": "code",
        "colab": {}
      },
      "source": [
        "#Encontrar os pokemons que contem forma Mega\n",
        "df.loc[df['Name'].str.contains('Mega')] # ~ simbolo para negação"
      ],
      "execution_count": null,
      "outputs": []
    },
    {
      "cell_type": "markdown",
      "metadata": {
        "id": "R523MdWBHlmE",
        "colab_type": "text"
      },
      "source": [
        "## Reagrupando dados"
      ]
    },
    {
      "cell_type": "code",
      "metadata": {
        "id": "ZWLQQ86wHyes",
        "colab_type": "code",
        "colab": {}
      },
      "source": [
        "#Reagrupar os pokemons pelo seu tipo realizando a media entre cada elemento\n",
        "\n",
        "df.groupby(['Type 1']).mean()"
      ],
      "execution_count": null,
      "outputs": []
    },
    {
      "cell_type": "code",
      "metadata": {
        "id": "UG_2nsaXH3ow",
        "colab_type": "code",
        "colab": {}
      },
      "source": [
        "# Quantos pokemonks de cada tipo \n",
        "df.groupby(['Type 1']).count()['#']"
      ],
      "execution_count": null,
      "outputs": []
    },
    {
      "cell_type": "markdown",
      "metadata": {
        "id": "sUoJv8tdH5e_",
        "colab_type": "text"
      },
      "source": [
        "## Salvando dataframe"
      ]
    },
    {
      "cell_type": "code",
      "metadata": {
        "id": "CGDvAEizH60j",
        "colab_type": "code",
        "colab": {}
      },
      "source": [
        "df.to_csv('modified.csv', index=False)\n",
        "#df.to_excel('modified.xlsx', index=False)"
      ],
      "execution_count": null,
      "outputs": []
    },
    {
      "cell_type": "markdown",
      "metadata": {
        "id": "7ZqMM4Ftf2Vm",
        "colab_type": "text"
      },
      "source": [
        "\n",
        "1. Todos os pokemons com ataque inferior 120\n",
        "```\n",
        "Saida esperada : (691 rows × 12 columns)\n",
        "```\n",
        "\n",
        "2. Apresentar o pokemon mais rapido do tipo agua\n",
        "```\n",
        " ID\t#\tName\tType 1\tType 2\tHP\tAttack\tDefense\tSp. Atk\tSp. Def\tSpeed\tGeneration\tLegendary\n",
        "726  658\tGreninja\tWater\tDark\t72\t95\t67\t103\t71\t122\t6\tFalse\n",
        "```\n",
        "\n",
        "\n",
        "3. Reagrupar apresentando o maior ataque de cada tipo pokemon\n",
        "```\n",
        "Type 1\n",
        "Bug         185\n",
        "Dark        150\n",
        "Dragon      180\n",
        "Electric    123\n",
        "Fairy       131\n",
        "Fighting    145\n",
        "Fire        160\n",
        "Flying      115\n",
        "Ghost       165\n",
        "Grass       132\n",
        "Ground      180\n",
        "Ice         130\n",
        "Normal      160\n",
        "Poison      106\n",
        "Psychic     190\n",
        "Rock        165\n",
        "Steel       150\n",
        "Water       155\n",
        "Name: Attack, dtype: int64\n",
        "```\n",
        "\n"
      ]
    },
    {
      "cell_type": "code",
      "metadata": {
        "id": "NQ8q6pf8kc5o",
        "colab_type": "code",
        "colab": {}
      },
      "source": [
        ""
      ],
      "execution_count": null,
      "outputs": []
    },
    {
      "cell_type": "markdown",
      "metadata": {
        "id": "2AZBEH75IAiP",
        "colab_type": "text"
      },
      "source": [
        "# Proximos Passos\n",
        "\n",
        "Curso do Kaggle da biblioteca Pandas é bastante completo e uma boa forma de aprofundar o que foi apresentado nesta introdução.\n",
        "\n",
        " - [Kaggle - Curso Pandas ](https://www.kaggle.com/learn/pandas)\n",
        "\n",
        "Cheat Sheet sintetizando o kit basico do Pandas \n",
        " - [Datacamp CheatSheet](http://datacamp-community-prod.s3.amazonaws.com/dbed353d-2757-4617-8206-8767ab379ab3)\n",
        " - [PyData CheatSheet](https://pandas.pydata.org/Pandas_Cheat_Sheet.pdf)\n",
        "\n",
        "\n",
        " "
      ]
    }
  ]
}